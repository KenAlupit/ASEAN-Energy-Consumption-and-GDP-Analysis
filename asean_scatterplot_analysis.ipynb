{
 "cells": [
  {
   "cell_type": "code",
   "execution_count": null,
   "metadata": {},
   "outputs": [],
   "source": [
    "# Importing necessary libraries for data manipulation and visualization\n",
    "import pandas as pd  # For data manipulation and analysis\n",
    "import seaborn as sns  # For data visualization\n",
    "import matplotlib.pyplot as plt  # For plotting\n",
    "from sklearn.linear_model import LinearRegression  # For linear regression modeling\n",
    "from sklearn.impute import SimpleImputer # For checking NaN values\n",
    "import numpy as np  # For numerical operations\n",
    "\n",
    "# Import data from .csv file\n",
    "dataset = pd.read_csv('owid-energy-data full-1.csv')\n",
    "\n",
    "# Display a preview of the dataset to verify successful import and understand its structure\n",
    "dataset"
   ]
  },
  {
   "cell_type": "code",
   "execution_count": null,
   "metadata": {},
   "outputs": [],
   "source": [
    "# Display the summary statistics of the dataset for initial insights\n",
    "dataset.describe()"
   ]
  },
  {
   "cell_type": "code",
   "execution_count": null,
   "metadata": {},
   "outputs": [],
   "source": [
    "# List of ASEAN member states for filtering the dataset\n",
    "asean_member_states = [\n",
    "    \"Brunei\", \n",
    "    \"Cambodia\", \n",
    "    \"Indonesia\", \n",
    "    \"Laos\", \n",
    "    \"Malaysia\", \n",
    "    \"Myanmar\", \n",
    "    \"Philippines\", \n",
    "    \"Singapore\", \n",
    "    \"Thailand\", \n",
    "    \"Vietnam\"]\n",
    "\n",
    "# List of years to be included in the filtered dataset\n",
    "included_years = [2017, 2018, 2019, 2020, 2021, 2022]\n",
    "\n",
    "# List of column names to be retained in the filtered dataset\n",
    "column_names = [\n",
    "    'country',\n",
    "    'year',\n",
    "    'population',\n",
    "    'gdp',\n",
    "    'biofuel_consumption',\n",
    "    'coal_consumption',\n",
    "    'fossil_fuel_consumption',\n",
    "    'gas_consumption',\n",
    "    'hydro_consumption',\n",
    "    'oil_consumption',\n",
    "    'wind_consumption',\n",
    "    'other_renewable_consumption',\n",
    "    'solar_consumption'\n",
    "]\n",
    "\n",
    "# Filtering the dataset for the specified years and countries\n",
    "filtered_year_dataset = dataset[(dataset['year'].isin(included_years)) & (dataset['country'].isin(asean_member_states))]\n",
    "\n",
    "# Selecting only the specified columns\n",
    "filtered_year_dataset = filtered_year_dataset[column_names]\n",
    "\n",
    "# Displaying the filtered dataset\n",
    "filtered_year_dataset"
   ]
  },
  {
   "cell_type": "code",
   "execution_count": null,
   "metadata": {},
   "outputs": [],
   "source": [
    "# Drop 'country' and 'year' columns from the filtered dataset\n",
    "filtered_dataset = filtered_year_dataset.drop(columns=['country', 'year'])"
   ]
  },
  {
   "cell_type": "code",
   "execution_count": null,
   "metadata": {},
   "outputs": [],
   "source": [
    "def plot_gdp_regression(column_number):    \n",
    "    # Set the size of each subplot\n",
    "    plt.figure(figsize=(20,10))\n",
    "\n",
    "    # Create a scatter plot\n",
    "    sns.scatterplot(x=filtered_dataset[filtered_dataset.columns[column_number]], y=filtered_dataset['gdp']) # Scatter plot of GDP vs feature\n",
    "    plt.title(f'Scatter Plot of GDP vs {filtered_dataset.columns[column_number]}') # Title for the subplot\n",
    "\n",
    "    # Extract the independent and dependent variables\n",
    "    X = filtered_dataset [filtered_dataset.columns[column_number]].values.reshape(-1, 1) # Independent variable\n",
    "    y = filtered_dataset ['gdp'].values.reshape(-1, 1)  # Dependent variable\n",
    "\n",
    "    # Initialize the SimpleImputer with the mean strategy\n",
    "    imputer = SimpleImputer(strategy='mean')\n",
    "\n",
    "    # Apply the imputer to handle any missing values\n",
    "    X_imputed = imputer.fit_transform(X)\n",
    "    y_imputed = imputer.fit_transform(y)\n",
    "\n",
    "    # Fit the linear regression model\n",
    "    model = LinearRegression()\n",
    "    model.fit(X_imputed, y_imputed)\n",
    "\n",
    "    # Extract the slope (coefficient) and intercept\n",
    "    slope = model.coef_[0][0]  \n",
    "    intercept = model.intercept_[0]\n",
    "\n",
    "    # Add the regression line\n",
    "    plt.plot(filtered_dataset[filtered_dataset.columns[column_number]], model.predict(X_imputed), 'r', label=f'y={slope}*x+{intercept}')\n",
    "\n",
    "    # Calculate the correlation coefficient\n",
    "    correlation_coefficient = np.corrcoef(X_imputed.flatten(), y_imputed.flatten())[0, 1]\n",
    "\n",
    "    # Add the correlation coefficient to the plot title\n",
    "    plt.title(f'Scatter Plot of GDP vs {filtered_dataset.columns[column_number]} (Correlation: {correlation_coefficient:.2f})')\n",
    "\n",
    "    # Add legend and grid\n",
    "    plt.legend()\n",
    "    plt.grid(True) \n",
    "\n",
    "    # Show the plot\n",
    "    plt.show()"
   ]
  },
  {
   "cell_type": "code",
   "execution_count": null,
   "metadata": {},
   "outputs": [],
   "source": [
    "plot_gdp_regression(2)"
   ]
  },
  {
   "cell_type": "markdown",
   "metadata": {},
   "source": [
    "- **By looking at the scatterplot, is there a correlation between each pair?**\n",
    "\n",
    "    - The scatterplot depicting the relationship between GDP and biofuel consumption reveals a very weak positive correlation, borderline no correlation at all.\n",
    "\n",
    "- **Are the correlations intuitive or do they make sense?**\n",
    "\n",
    "    - Looking beyond the very weak positive correlation evident in the scatterplot, there exists a logical connection between GDP and biofuel consumption. Biofuel consumption in a country can positively influence its GDP, as the utilization of biofuel signifies a progressive, eco-friendly approach to energy sourcing. This correlation implies that a country embracing biofuel is likely advancing its economic development.\n",
    "\n",
    "- **Are there any outliers?**\n",
    "\n",
    "    - We can see two outliers in this scatterplot near the top-left corner, almost reaching the middle of the plot."
   ]
  },
  {
   "cell_type": "code",
   "execution_count": null,
   "metadata": {},
   "outputs": [],
   "source": [
    "plot_gdp_regression(3)"
   ]
  },
  {
   "cell_type": "markdown",
   "metadata": {},
   "source": [
    "- **By looking at the scatterplot, is there a correlation between each pair?**\n",
    "\n",
    "    - Examining the scatterplot depicting the relationship between GDP and coal consumption, a weak positive correlation becomes apparent.\n",
    "\n",
    "- **Are the correlations intuitive or do they make sense?**\n",
    "\n",
    "    - The scatter plot reveals a weak positive correlation between GDP and coal consumption, a relationship that aligns with economic logic. Increased coal usage, typically associated with production, indicates higher industrial activity, implying that a country is manufacturing more goods.\n",
    "\n",
    "- **Are there any outliers?**\n",
    "\n",
    "    - In this scatterplot, we can clearly see two outliers at the top-middle of the plot."
   ]
  },
  {
   "cell_type": "code",
   "execution_count": null,
   "metadata": {},
   "outputs": [],
   "source": [
    "plot_gdp_regression(4)"
   ]
  },
  {
   "cell_type": "markdown",
   "metadata": {},
   "source": [
    "- **By looking at the scatterplot, is there a correlation between each pair?**\n",
    "\n",
    "    - Looking at the scatterplot depicting the relationship between GDP and fossil fuel consumption, a weak positive correlation between the two variables emerges.\n",
    "\n",
    "- **Are the correlations intuitive or do they make sense?**\n",
    "\n",
    "    - The scatterplot illustrates a weak positive correlation between the two variables, mirroring the pattern observed in the previous scatterplot. Higher fossil fuel consumption often signifies higher industrial activity and increased production of goods, which aligns with economic logic.\n",
    "\n",
    "- **Are there any outliers?**\n",
    "\n",
    "    - Observing the scatterplot, there are two outliers near the edge at the top-right corner of the plot."
   ]
  },
  {
   "cell_type": "code",
   "execution_count": null,
   "metadata": {},
   "outputs": [],
   "source": [
    "plot_gdp_regression(5)"
   ]
  },
  {
   "cell_type": "markdown",
   "metadata": {},
   "source": [
    "- **By looking at the scatterplot, is there a correlation between each pair?**\n",
    "\n",
    "    - In the scatterplot depicting the relationship between GDP and gas consumption, a weak positive correlation between the two variables is evident.\n",
    "\n",
    "- **Are the correlations intuitive or do they make sense?**\n",
    "\n",
    "    -  Similar to the preceding two scatterplots, the relationship between GDP and gas consumption exhibits a weak positive correlation. This correlation is intuitive and aligns with economic logic. Gas consumption is primarily linked to industrial activity, just like the previous two relationships, indicative of heightened production of goods.\n",
    "\n",
    "- **Are there any outliers?**\n",
    "\n",
    "    - When examining the scatterplot, we can identify two apparent outliers on the plot, which are situated at the top right corner."
   ]
  },
  {
   "cell_type": "code",
   "execution_count": null,
   "metadata": {},
   "outputs": [],
   "source": [
    "plot_gdp_regression(6)"
   ]
  },
  {
   "cell_type": "markdown",
   "metadata": {},
   "source": [
    "- **By looking at the scatterplot, is there a correlation between each pair?**\n",
    " \n",
    "    - Observing the relationship between GDP and hydro consumption, we can discern a very weak negative correlation between the two variables.\n",
    "\n",
    "- **Are the correlations intuitive or do they make sense?**\n",
    "\n",
    "    - Examining the scatterplot, the depicted relationship appears counterintuitive and does not make sense. It suggests that as hydro consumption increases, GDP decreases. However, this contradicts conventional knowledge, as greater utilization of renewable energy, such as hydroelectric power, typically reduces energy costs for a country, freeing up financial resources for investment in other areas.\n",
    "\n",
    "- **Are there any outliers?**\n",
    "\n",
    "    - Looking at the scatterplot, two outliers are noticeable on the upper left, positioned just above the main cluster of data points."
   ]
  },
  {
   "cell_type": "code",
   "execution_count": null,
   "metadata": {},
   "outputs": [],
   "source": [
    "plot_gdp_regression(7)"
   ]
  },
  {
   "cell_type": "markdown",
   "metadata": {},
   "source": [
    "- **By looking at the scatterplot, is there a correlation between each pair?**\n",
    "\n",
    "    - When viewing the scatterplot depicting the relationship between GDP and oil consumption, a weak positive correlation between the two variables can be observed.\n",
    "\n",
    "- **Are the correlations intuitive or do they make sense?**\n",
    "\n",
    "    - The weak positive relationship between GDP and oil consumption evident on the scatterplot is intuitive. Increased oil consumption signifies extensive use across various transportation modes (land, air, and water), suggesting heightened economic activity. This encompasses everything from increased employment to the delivery of goods.\n",
    "\n",
    "- **Are there any outliers?**\n",
    "\n",
    "    - Examining the scatterplot, we can identify two outliers positioned at the top right-hand corner of the plot."
   ]
  },
  {
   "cell_type": "code",
   "execution_count": null,
   "metadata": {},
   "outputs": [],
   "source": [
    "plot_gdp_regression(8)"
   ]
  },
  {
   "cell_type": "markdown",
   "metadata": {},
   "source": [
    "- **By looking at the scatterplot, is there a correlation between each pair?**\n",
    "\n",
    "    - The scatterplot depicting the relationship between GDP and wind consumption showcases a very weak negative correlation, bordering on having no correlation at all.\n",
    "\n",
    "- **Are the correlations intuitive or do they make sense?**\n",
    "\n",
    "    - Despite the very weak negative correlation, potentially influenced by incomplete data, the relationship between GDP and wind consumption remains intuitive and logical. However, the negative correlation observed in the scatterplot contradicts the expected outcome. As mentioned earlier in the context of GDP and hydro consumption, when a country opts for increased use of renewable energy sources, such as wind, the funds allocated for energy can be redirected to other industries, potentially boosting GDP. This discrepancy challenges the interpretation provided by the scatterplot.\n",
    "\n",
    "- **Are there any outliers?**\n",
    "\n",
    "    - Observing the scatterplot, we can identify outliers pretty easily. Two outliers are notably positioned just above the primary cluster of data points, situated at the upper left-most corner of the plot."
   ]
  },
  {
   "cell_type": "code",
   "execution_count": null,
   "metadata": {},
   "outputs": [],
   "source": [
    "plot_gdp_regression(9)"
   ]
  },
  {
   "cell_type": "markdown",
   "metadata": {},
   "source": [
    "- **By looking at the scatterplot, is there a correlation between each pair?**\n",
    "\n",
    "    - Analyzing the scatterplot depicting the relationship between GDP and other renewable energy consumption, we can observe a weak positive correlation between the two variables.\n",
    "\n",
    "- **Are the correlations intuitive or do they make sense?**\n",
    "\n",
    "    - Compared to previous scatterplots focusing on renewable energy, this particular visualization appears intuitive and coherent. As previously discussed, countries that invest more in renewable energy can often allocate additional resources to other sectors, consequently enhancing their GDP, as reflected in this scatterplot.\n",
    "\n",
    "- **Are there any outliers?**\n",
    "\n",
    "    - In this scatterplot, two outliers are evident at the uppermost region. They are distinctly positioned apart from each other, with one leaning more towards the left side, while the other is situated towards the right. These outliers stand out from the rest of the data points."
   ]
  },
  {
   "cell_type": "code",
   "execution_count": null,
   "metadata": {},
   "outputs": [],
   "source": [
    "plot_gdp_regression(10)"
   ]
  },
  {
   "cell_type": "markdown",
   "metadata": {},
   "source": [
    "- **By looking at the scatterplot, is there a correlation between each pair?**\n",
    "\n",
    "    - Upon examining the scatterplot illustrating the relationship between GDP and solar consumption, we can observe a very weak negative correlation between the two variables.\n",
    "\n",
    "- **Are the correlations intuitive or do they make sense?**\n",
    "\n",
    "    - This scatterplot follows a similar pattern to previous scatterplots of renewable energy sources, except for other renewable energy consumption, where the correlations are not intuitive, as previously discussed. As repeatedly emphasized, when a country chooses to increase its utilization of renewable energy, such as solar energy, its GDP should ideally rise. This is due to the reduction in costs associated with producing and consuming energy, which creates opportunities for the country to allocate more budget to sectors that can further enhance its GDP.\n",
    "    \n",
    "- **Are there any outliers?**\n",
    "\n",
    "    - When analyzing the scatterplot, we can see two outliers positioned above the main cluster of data points, towards the upper-left section of the plot."
   ]
  }
 ],
 "metadata": {
  "kernelspec": {
   "display_name": "Python 3",
   "language": "python",
   "name": "python3"
  },
  "language_info": {
   "codemirror_mode": {
    "name": "ipython",
    "version": 3
   },
   "file_extension": ".py",
   "mimetype": "text/x-python",
   "name": "python",
   "nbconvert_exporter": "python",
   "pygments_lexer": "ipython3",
   "version": "3.12.0"
  }
 },
 "nbformat": 4,
 "nbformat_minor": 2
}
